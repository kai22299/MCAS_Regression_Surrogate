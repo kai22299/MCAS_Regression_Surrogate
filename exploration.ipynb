{
 "cells": [
  {
   "cell_type": "markdown",
   "metadata": {},
   "source": [
    "## This file serves as an sandbox for exploring the Massachusetts_Public_Schools_2017 dataset. "
   ]
  },
  {
   "cell_type": "markdown",
   "metadata": {},
   "source": []
  },
  {
   "cell_type": "code",
   "execution_count": 20,
   "metadata": {},
   "outputs": [],
   "source": [
    "#Import pandas, numpy and matplotlib for data exploration\n",
    "import pandas as pd\n",
    "import numpy as np\n",
    "from matplotlib import pyplot as plt\n",
    "from sklearn.impute import KNNImputer\n",
    "from sklearn.preprocessing import MinMaxScaler"
   ]
  },
  {
   "cell_type": "code",
   "execution_count": 21,
   "metadata": {},
   "outputs": [],
   "source": [
    "#Import public schools dataset and the data dictionary\n",
    "raw_schools_data = pd.read_csv('data/MA_Public_Schools_2017.csv', low_memory = False)\n",
    "data_dict = pd.read_csv('data/MA_Public_Schools_datadict.csv')"
   ]
  },
  {
   "cell_type": "code",
   "execution_count": 22,
   "metadata": {},
   "outputs": [
    {
     "name": "stdout",
     "output_type": "stream",
     "text": [
      "<class 'pandas.core.frame.DataFrame'>\n",
      "RangeIndex: 1861 entries, 0 to 1860\n",
      "Data columns (total 77 columns):\n",
      " #   Column                                                      Non-Null Count  Dtype  \n",
      "---  ------                                                      --------------  -----  \n",
      " 0   School Name                                                 1861 non-null   object \n",
      " 1   School Type                                                 1861 non-null   object \n",
      " 2   Town                                                        1861 non-null   object \n",
      " 3   Grade                                                       1860 non-null   object \n",
      " 4   District Name                                               1861 non-null   object \n",
      " 5   PK_Enrollment                                               1861 non-null   int64  \n",
      " 6   K_Enrollment                                                1861 non-null   int64  \n",
      " 7   1_Enrollment                                                1861 non-null   int64  \n",
      " 8   2_Enrollment                                                1861 non-null   int64  \n",
      " 9   3_Enrollment                                                1861 non-null   int64  \n",
      " 10  4_Enrollment                                                1861 non-null   int64  \n",
      " 11  5_Enrollment                                                1861 non-null   int64  \n",
      " 12  6_Enrollment                                                1861 non-null   int64  \n",
      " 13  7_Enrollment                                                1861 non-null   int64  \n",
      " 14  8_Enrollment                                                1861 non-null   int64  \n",
      " 15  9_Enrollment                                                1861 non-null   int64  \n",
      " 16  10_Enrollment                                               1861 non-null   int64  \n",
      " 17  11_Enrollment                                               1861 non-null   int64  \n",
      " 18  12_Enrollment                                               1861 non-null   int64  \n",
      " 19  SP_Enrollment                                               1861 non-null   int64  \n",
      " 20  TOTAL_Enrollment                                            1861 non-null   int64  \n",
      " 21  % First Language Not English                                1850 non-null   float64\n",
      " 22  % English Language Learner                                  1850 non-null   float64\n",
      " 23  % Students With Disabilities                                1850 non-null   float64\n",
      " 24  % High Needs                                                1850 non-null   float64\n",
      " 25  % Economically Disadvantaged                                1850 non-null   float64\n",
      " 26  Average Class Size                                          1823 non-null   float64\n",
      " 27  Average Salary                                              1769 non-null   float64\n",
      " 28  FTE Count                                                   1769 non-null   float64\n",
      " 29  In-District Expenditures                                    1768 non-null   float64\n",
      " 30  Average In-District Expenditures per Pupil                  1768 non-null   float64\n",
      " 31  Total Pupil FTEs                                            1768 non-null   float64\n",
      " 32  Average Expenditures per Pupil                              1768 non-null   float64\n",
      " 33  # in Cohort                                                 376 non-null    float64\n",
      " 34  % Graduated                                                 376 non-null    float64\n",
      " 35  % Still in School                                           376 non-null    float64\n",
      " 36  % Non-Grad Completers                                       376 non-null    float64\n",
      " 37  % GED                                                       376 non-null    float64\n",
      " 38  % Dropped Out                                               376 non-null    float64\n",
      " 39  % Permanently Excluded                                      376 non-null    float64\n",
      " 40  High School Graduates (#)                                   371 non-null    float64\n",
      " 41  Attending Coll./Univ. (#)                                   344 non-null    float64\n",
      " 42  % Attending College                                         344 non-null    float64\n",
      " 43  SAT_Tests Taken                                             360 non-null    float64\n",
      " 44  Average SAT_Reading                                         332 non-null    float64\n",
      " 45  Average SAT_Writing                                         332 non-null    float64\n",
      " 46  Average SAT_Math                                            332 non-null    float64\n",
      " 47  MCAS_10thGrade_Math_P+A #                                   351 non-null    float64\n",
      " 48  % MCAS_10thGrade_Math_P+A                                   351 non-null    float64\n",
      " 49  MCAS_10thGrade_Math_A #                                     351 non-null    float64\n",
      " 50  % MCAS_10thGrade_Math_A                                     351 non-null    float64\n",
      " 51  MCAS_10thGrade_Math_P #                                     351 non-null    float64\n",
      " 52  % MCAS_10thGrade_Math_P                                     351 non-null    float64\n",
      " 53  MCAS_10thGrade_Math_NI #                                    351 non-null    float64\n",
      " 54  % MCAS_10thGrade_Math_NI                                    351 non-null    float64\n",
      " 55  MCAS_10thGrade_Math_W/F #                                   351 non-null    float64\n",
      " 56  % MCAS_10thGrade_Math_W/F                                   351 non-null    float64\n",
      " 57  MCAS_10thGrade_Math_Stud. Incl. #                           351 non-null    float64\n",
      " 58  MCAS_10thGrade_Math_CPI                                     351 non-null    float64\n",
      " 59  MCAS_10thGrade_Math_SGP                                     333 non-null    float64\n",
      " 60  MCAS_10thGrade_English_P+A #                                353 non-null    float64\n",
      " 61  % MCAS_10thGrade_English_P+A                                353 non-null    float64\n",
      " 62  MCAS_10thGrade_English_A #                                  353 non-null    float64\n",
      " 63  % MCAS_10thGrade_English_A                                  353 non-null    float64\n",
      " 64  MCAS_10thGrade_English_P #                                  353 non-null    float64\n",
      " 65  % MCAS_10thGrade_English_P                                  353 non-null    float64\n",
      " 66  MCAS_10thGrade_English_NI #                                 353 non-null    float64\n",
      " 67  % MCAS_10thGrade_English_NI                                 353 non-null    float64\n",
      " 68  MCAS_10thGrade_English_W/F #                                353 non-null    float64\n",
      " 69  % MCAS_10thGrade_English_W/F                                353 non-null    float64\n",
      " 70  MCAS_10thGrade_English_Stud. Incl. #                        353 non-null    float64\n",
      " 71  MCAS_10thGrade_English_CPI                                  353 non-null    float64\n",
      " 72  Accountability and Assistance Level                         1836 non-null   object \n",
      " 73  Accountability and Assistance Description                   1607 non-null   object \n",
      " 74  School Accountability Percentile (1-99)                     1541 non-null   float64\n",
      " 75  Progress and Performance Index (PPI) - All Students         1591 non-null   float64\n",
      " 76  Progress and Performance Index (PPI) - High Needs Students  1489 non-null   float64\n",
      "dtypes: float64(54), int64(16), object(7)\n",
      "memory usage: 1.1+ MB\n",
      "None\n"
     ]
    }
   ],
   "source": [
    "#Extract the relevant features from the full dataset\n",
    "data_cut_down = raw_schools_data[['School Name', 'School Type', 'Town', 'Grade', 'District Name', 'PK_Enrollment', 'K_Enrollment', '1_Enrollment', '2_Enrollment', '3_Enrollment', '4_Enrollment', '5_Enrollment', '6_Enrollment', '7_Enrollment', '8_Enrollment', '9_Enrollment', '10_Enrollment', '11_Enrollment', '12_Enrollment', 'SP_Enrollment',\n",
    "'TOTAL_Enrollment', '% First Language Not English', '% English Language Learner', '% Students With Disabilities', '% High Needs', '% Economically Disadvantaged', 'Average Class Size', 'Average Salary', 'FTE Count', 'In-District Expenditures', 'Average In-District Expenditures per Pupil', 'Total Pupil FTEs',\n",
    "'Average Expenditures per Pupil', '# in Cohort', '% Graduated', '% Still in School', '% Non-Grad Completers', '% GED', '% Dropped Out', '% Permanently Excluded', 'High School Graduates (#)', 'Attending Coll./Univ. (#)', '% Attending College', 'SAT_Tests Taken', 'Average SAT_Reading', 'Average SAT_Writing', \n",
    "'Average SAT_Math', 'MCAS_10thGrade_Math_P+A #', '% MCAS_10thGrade_Math_P+A', 'MCAS_10thGrade_Math_A #', '% MCAS_10thGrade_Math_A', 'MCAS_10thGrade_Math_P #', '% MCAS_10thGrade_Math_P', 'MCAS_10thGrade_Math_NI #', '% MCAS_10thGrade_Math_NI', 'MCAS_10thGrade_Math_W/F #', '% MCAS_10thGrade_Math_W/F', \n",
    "'MCAS_10thGrade_Math_Stud. Incl. #', 'MCAS_10thGrade_Math_CPI', 'MCAS_10thGrade_Math_SGP', 'MCAS_10thGrade_English_P+A #', '% MCAS_10thGrade_English_P+A', 'MCAS_10thGrade_English_A #', '% MCAS_10thGrade_English_A', 'MCAS_10thGrade_English_P #', '% MCAS_10thGrade_English_P', 'MCAS_10thGrade_English_NI #',\n",
    "'% MCAS_10thGrade_English_NI', 'MCAS_10thGrade_English_W/F #', '% MCAS_10thGrade_English_W/F', 'MCAS_10thGrade_English_Stud. Incl. #', 'MCAS_10thGrade_English_CPI', 'Accountability and Assistance Level', 'Accountability and Assistance Description', 'School Accountability Percentile (1-99)', \n",
    "'Progress and Performance Index (PPI) - All Students', 'Progress and Performance Index (PPI) - High Needs Students']]\n",
    "print(data_cut_down.info())"
   ]
  },
  {
   "cell_type": "code",
   "execution_count": 23,
   "metadata": {},
   "outputs": [
    {
     "name": "stdout",
     "output_type": "stream",
     "text": [
      "<class 'pandas.core.frame.DataFrame'>\n",
      "Index: 402 entries, 0 to 1858\n",
      "Data columns (total 78 columns):\n",
      " #   Column                                                      Non-Null Count  Dtype  \n",
      "---  ------                                                      --------------  -----  \n",
      " 0   School Name                                                 402 non-null    object \n",
      " 1   School Type                                                 402 non-null    object \n",
      " 2   Town                                                        402 non-null    object \n",
      " 3   Grade                                                       402 non-null    object \n",
      " 4   District Name                                               402 non-null    object \n",
      " 5   PK_Enrollment                                               402 non-null    int64  \n",
      " 6   K_Enrollment                                                402 non-null    int64  \n",
      " 7   1_Enrollment                                                402 non-null    int64  \n",
      " 8   2_Enrollment                                                402 non-null    int64  \n",
      " 9   3_Enrollment                                                402 non-null    int64  \n",
      " 10  4_Enrollment                                                402 non-null    int64  \n",
      " 11  5_Enrollment                                                402 non-null    int64  \n",
      " 12  6_Enrollment                                                402 non-null    int64  \n",
      " 13  7_Enrollment                                                402 non-null    int64  \n",
      " 14  8_Enrollment                                                402 non-null    int64  \n",
      " 15  9_Enrollment                                                402 non-null    int64  \n",
      " 16  10_Enrollment                                               402 non-null    int64  \n",
      " 17  11_Enrollment                                               402 non-null    int64  \n",
      " 18  12_Enrollment                                               402 non-null    int64  \n",
      " 19  SP_Enrollment                                               402 non-null    int64  \n",
      " 20  TOTAL_Enrollment                                            402 non-null    int64  \n",
      " 21  % First Language Not English                                396 non-null    float64\n",
      " 22  % English Language Learner                                  396 non-null    float64\n",
      " 23  % Students With Disabilities                                396 non-null    float64\n",
      " 24  % High Needs                                                396 non-null    float64\n",
      " 25  % Economically Disadvantaged                                396 non-null    float64\n",
      " 26  Average Class Size                                          384 non-null    float64\n",
      " 27  Average Salary                                              351 non-null    float64\n",
      " 28  FTE Count                                                   351 non-null    float64\n",
      " 29  In-District Expenditures                                    351 non-null    float64\n",
      " 30  Average In-District Expenditures per Pupil                  351 non-null    float64\n",
      " 31  Total Pupil FTEs                                            351 non-null    float64\n",
      " 32  Average Expenditures per Pupil                              351 non-null    float64\n",
      " 33  # in Cohort                                                 371 non-null    float64\n",
      " 34  % Graduated                                                 371 non-null    float64\n",
      " 35  % Still in School                                           371 non-null    float64\n",
      " 36  % Non-Grad Completers                                       371 non-null    float64\n",
      " 37  % GED                                                       371 non-null    float64\n",
      " 38  % Dropped Out                                               371 non-null    float64\n",
      " 39  % Permanently Excluded                                      371 non-null    float64\n",
      " 40  High School Graduates (#)                                   365 non-null    float64\n",
      " 41  Attending Coll./Univ. (#)                                   341 non-null    float64\n",
      " 42  % Attending College                                         341 non-null    float64\n",
      " 43  SAT_Tests Taken                                             355 non-null    float64\n",
      " 44  Average SAT_Reading                                         329 non-null    float64\n",
      " 45  Average SAT_Writing                                         329 non-null    float64\n",
      " 46  Average SAT_Math                                            329 non-null    float64\n",
      " 47  MCAS_10thGrade_Math_P+A #                                   351 non-null    float64\n",
      " 48  % MCAS_10thGrade_Math_P+A                                   351 non-null    float64\n",
      " 49  MCAS_10thGrade_Math_A #                                     351 non-null    float64\n",
      " 50  % MCAS_10thGrade_Math_A                                     351 non-null    float64\n",
      " 51  MCAS_10thGrade_Math_P #                                     351 non-null    float64\n",
      " 52  % MCAS_10thGrade_Math_P                                     351 non-null    float64\n",
      " 53  MCAS_10thGrade_Math_NI #                                    351 non-null    float64\n",
      " 54  % MCAS_10thGrade_Math_NI                                    351 non-null    float64\n",
      " 55  MCAS_10thGrade_Math_W/F #                                   351 non-null    float64\n",
      " 56  % MCAS_10thGrade_Math_W/F                                   351 non-null    float64\n",
      " 57  MCAS_10thGrade_Math_Stud. Incl. #                           351 non-null    float64\n",
      " 58  MCAS_10thGrade_Math_CPI                                     351 non-null    float64\n",
      " 59  MCAS_10thGrade_Math_SGP                                     333 non-null    float64\n",
      " 60  MCAS_10thGrade_English_P+A #                                353 non-null    float64\n",
      " 61  % MCAS_10thGrade_English_P+A                                353 non-null    float64\n",
      " 62  MCAS_10thGrade_English_A #                                  353 non-null    float64\n",
      " 63  % MCAS_10thGrade_English_A                                  353 non-null    float64\n",
      " 64  MCAS_10thGrade_English_P #                                  353 non-null    float64\n",
      " 65  % MCAS_10thGrade_English_P                                  353 non-null    float64\n",
      " 66  MCAS_10thGrade_English_NI #                                 353 non-null    float64\n",
      " 67  % MCAS_10thGrade_English_NI                                 353 non-null    float64\n",
      " 68  MCAS_10thGrade_English_W/F #                                353 non-null    float64\n",
      " 69  % MCAS_10thGrade_English_W/F                                353 non-null    float64\n",
      " 70  MCAS_10thGrade_English_Stud. Incl. #                        353 non-null    float64\n",
      " 71  MCAS_10thGrade_English_CPI                                  353 non-null    float64\n",
      " 72  Accountability and Assistance Level                         389 non-null    object \n",
      " 73  Accountability and Assistance Description                   352 non-null    object \n",
      " 74  School Accountability Percentile (1-99)                     337 non-null    float64\n",
      " 75  Progress and Performance Index (PPI) - All Students         339 non-null    float64\n",
      " 76  Progress and Performance Index (PPI) - High Needs Students  313 non-null    float64\n",
      " 77  teaches_10th_grade                                          402 non-null    bool   \n",
      "dtypes: bool(1), float64(54), int64(16), object(7)\n",
      "memory usage: 245.4+ KB\n",
      "None\n"
     ]
    },
    {
     "name": "stderr",
     "output_type": "stream",
     "text": [
      "C:\\Users\\jkaic\\AppData\\Local\\Temp\\ipykernel_30960\\500439619.py:2: SettingWithCopyWarning: \n",
      "A value is trying to be set on a copy of a slice from a DataFrame.\n",
      "Try using .loc[row_indexer,col_indexer] = value instead\n",
      "\n",
      "See the caveats in the documentation: https://pandas.pydata.org/pandas-docs/stable/user_guide/indexing.html#returning-a-view-versus-a-copy\n",
      "  data_cut_down['teaches_10th_grade'] = data_cut_down['Grade'].apply(lambda x: '10' in str(x))\n"
     ]
    }
   ],
   "source": [
    "#Parse out any schools that don't teach the 10th grade\n",
    "data_cut_down['teaches_10th_grade'] = data_cut_down['Grade'].apply(lambda x: '10' in str(x))\n",
    "schools_teaching_10th = data_cut_down[data_cut_down['teaches_10th_grade']].copy()\n",
    "print(schools_teaching_10th.info())"
   ]
  },
  {
   "cell_type": "markdown",
   "metadata": {},
   "source": [
    "From here I can identify the fields to use as features when building the model. Since we are trying to predict the percentage of 10th grade students that will fail the MCAS at a given school, we want to focus on features that contain information about the school's demographic, location, funding, and employment.\n",
    "\n",
    "Additionally, the fields needed to produce a target column must be defined. Because the percentage of failed students is broken out for each school and by subject, these factors need to be combined into a single metric that meaasures the failure rate of each school."
   ]
  },
  {
   "cell_type": "code",
   "execution_count": 24,
   "metadata": {},
   "outputs": [],
   "source": [
    "#create a list of features used to predict failure rate for the MCAS\n",
    "features = ['Town', 'District Name', 'School Type', 'TOTAL_Enrollment', '% First Language Not English', '% English Language Learner', '% Students With Disabilities', '% High Needs', '% Economically Disadvantaged', 'Average Class Size', 'Average Salary', 'FTE Count', 'In-District Expenditures',\n",
    "            'Average In-District Expenditures per Pupil', '% Graduated', '% Attending College', 'Average SAT_Reading', 'Average SAT_Writing', 'Average SAT_Math', 'Accountability and Assistance Level', 'School Accountability Percentile (1-99)',\n",
    "            'Progress and Performance Index (PPI) - All Students', 'Progress and Performance Index (PPI) - High Needs Students', 'Total Pupil FTEs']\n",
    "target_fields = ['% MCAS_10thGrade_Math_W/F', '% MCAS_10thGrade_English_W/F', 'MCAS_10thGrade_English_CPI']"
   ]
  },
  {
   "cell_type": "code",
   "execution_count": 25,
   "metadata": {},
   "outputs": [],
   "source": [
    "#pull out a dataframe for the features and a dataframe for the tartet fields\n",
    "feature_frame = schools_teaching_10th[features]\n",
    "target_frame = schools_teaching_10th[target_fields]"
   ]
  },
  {
   "cell_type": "markdown",
   "metadata": {},
   "source": [
    "## Step 2: The Target Variable\n",
    "\n",
    "The primary goal of this model is to identify the most significant school characteristics that drive performance on the MCAS exams. As such, a single metric for evaluating a school's performance on the MCAS needs to be developed. For this purpose, I elected to use the average CPI for 10th grade students across all subjects. The CPI assigns the set of scores [0, 25, 50, 75, 100] based on how the student performs on the MCAS and then averages these values across the whole school. The reason I decided to focus only on 10th Grade CPIs is because this is the last chance for a student to pass the MCAS before it would prevent them from graduating, and therefore this should be the exam that most students are motivated to pass."
   ]
  },
  {
   "cell_type": "code",
   "execution_count": 26,
   "metadata": {},
   "outputs": [
    {
     "name": "stdout",
     "output_type": "stream",
     "text": [
      "count    351.000000\n",
      "mean      93.174074\n",
      "std        6.959799\n",
      "min       45.000000\n",
      "25%       91.450000\n",
      "50%       95.100000\n",
      "75%       97.650000\n",
      "max      100.000000\n",
      "Name: Agg CPI, dtype: float64\n"
     ]
    }
   ],
   "source": [
    "#List of CPI score fields for 10th grade students\n",
    "schools_teaching_10th['Agg CPI'] = (schools_teaching_10th['MCAS_10thGrade_Math_CPI'] + schools_teaching_10th['MCAS_10thGrade_English_CPI']) / 2\n",
    "print(schools_teaching_10th['Agg CPI'].describe())"
   ]
  },
  {
   "cell_type": "code",
   "execution_count": 27,
   "metadata": {},
   "outputs": [],
   "source": [
    "#Now that the target column has been created, I'll drop any rows missing the target variable and create a feature and target frame to separate out the values\n",
    "target_populated = schools_teaching_10th.dropna(subset = ['Agg CPI'])\n",
    "\n",
    "feature_frame = target_populated[features]\n",
    "target_frame = target_populated[target_fields]"
   ]
  },
  {
   "cell_type": "markdown",
   "metadata": {},
   "source": [
    "\n",
    "# Step 3: Feature Data\n",
    "\n",
    "Next I sorted through the most important columns to check the data quality and dtermine how to deal with null values on a case by case basis. Please note that this exporation and feature engineering exercise was done with the subset of row items that had values for the target value to identify and address gaps for schools that would be used to train the model. However, the imputation methods shown here will be applied to the entire dataset to allow for more information to be used when imputing missing values. "
   ]
  },
  {
   "cell_type": "code",
   "execution_count": 28,
   "metadata": {},
   "outputs": [
    {
     "name": "stdout",
     "output_type": "stream",
     "text": [
      "<class 'pandas.core.frame.DataFrame'>\n",
      "Index: 351 entries, 0 to 1858\n",
      "Data columns (total 24 columns):\n",
      " #   Column                                                      Non-Null Count  Dtype  \n",
      "---  ------                                                      --------------  -----  \n",
      " 0   Town                                                        351 non-null    object \n",
      " 1   District Name                                               351 non-null    object \n",
      " 2   School Type                                                 351 non-null    object \n",
      " 3   TOTAL_Enrollment                                            351 non-null    int64  \n",
      " 4   % First Language Not English                                351 non-null    float64\n",
      " 5   % English Language Learner                                  351 non-null    float64\n",
      " 6   % Students With Disabilities                                351 non-null    float64\n",
      " 7   % High Needs                                                351 non-null    float64\n",
      " 8   % Economically Disadvantaged                                351 non-null    float64\n",
      " 9   Average Class Size                                          348 non-null    float64\n",
      " 10  Average Salary                                              309 non-null    float64\n",
      " 11  FTE Count                                                   309 non-null    float64\n",
      " 12  In-District Expenditures                                    309 non-null    float64\n",
      " 13  Average In-District Expenditures per Pupil                  309 non-null    float64\n",
      " 14  % Graduated                                                 340 non-null    float64\n",
      " 15  % Attending College                                         332 non-null    float64\n",
      " 16  Average SAT_Reading                                         327 non-null    float64\n",
      " 17  Average SAT_Writing                                         327 non-null    float64\n",
      " 18  Average SAT_Math                                            327 non-null    float64\n",
      " 19  Accountability and Assistance Level                         350 non-null    object \n",
      " 20  School Accountability Percentile (1-99)                     333 non-null    float64\n",
      " 21  Progress and Performance Index (PPI) - All Students         335 non-null    float64\n",
      " 22  Progress and Performance Index (PPI) - High Needs Students  310 non-null    float64\n",
      " 23  Total Pupil FTEs                                            309 non-null    float64\n",
      "dtypes: float64(19), int64(1), object(4)\n",
      "memory usage: 68.6+ KB\n",
      "None\n"
     ]
    }
   ],
   "source": [
    "#print a high level summary of the feature dataframe\n",
    "print(feature_frame.info())"
   ]
  },
  {
   "cell_type": "code",
   "execution_count": 29,
   "metadata": {},
   "outputs": [
    {
     "name": "stdout",
     "output_type": "stream",
     "text": [
      "School Name\n",
      "Abington High                      1\n",
      "Norton High                        1\n",
      "Pembroke High School               1\n",
      "Peabody Veterans Memorial High     1\n",
      "Pathfinder Vocational Technical    1\n",
      "Name: count, dtype: int64\n"
     ]
    }
   ],
   "source": [
    "#Check to ensure there aren't any duplicate school names\n",
    "print(schools_teaching_10th['School Name'].value_counts().head())"
   ]
  },
  {
   "cell_type": "code",
   "execution_count": 30,
   "metadata": {},
   "outputs": [
    {
     "name": "stdout",
     "output_type": "stream",
     "text": [
      "Town\n",
      "count             351\n",
      "unique            244\n",
      "top       Springfield\n",
      "freq               10\n",
      "Name: Town, dtype: object\n",
      "\n",
      "District Name\n",
      "count        351\n",
      "unique       294\n",
      "top       Boston\n",
      "freq          27\n",
      "Name: District Name, dtype: object\n",
      "\n",
      "School Type\n",
      "count               351\n",
      "unique                2\n",
      "top       Public School\n",
      "freq                311\n",
      "Name: School Type, dtype: object\n",
      "\n",
      "TOTAL_Enrollment\n",
      "count     351.000000\n",
      "mean      887.931624\n",
      "std       544.503145\n",
      "min        93.000000\n",
      "25%       480.000000\n",
      "50%       748.000000\n",
      "75%      1208.500000\n",
      "max      4264.000000\n",
      "Name: TOTAL_Enrollment, dtype: float64\n",
      "\n",
      "% First Language Not English\n",
      "count    351.000000\n",
      "mean      16.954986\n",
      "std       20.624492\n",
      "min        0.000000\n",
      "25%        2.450000\n",
      "50%        7.000000\n",
      "75%       24.500000\n",
      "max      100.000000\n",
      "Name: % First Language Not English, dtype: float64\n",
      "\n",
      "% English Language Learner\n",
      "count    351.000000\n",
      "mean       6.336752\n",
      "std       10.768063\n",
      "min        0.000000\n",
      "25%        0.500000\n",
      "50%        1.500000\n",
      "75%        7.150000\n",
      "max       79.600000\n",
      "Name: % English Language Learner, dtype: float64\n",
      "\n",
      "% Students With Disabilities\n",
      "count    351.000000\n",
      "mean      17.333903\n",
      "std       10.065325\n",
      "min        0.000000\n",
      "25%       12.350000\n",
      "50%       15.500000\n",
      "75%       19.300000\n",
      "max      100.000000\n",
      "Name: % Students With Disabilities, dtype: float64\n",
      "\n",
      "% High Needs\n",
      "count    351.000000\n",
      "mean      41.761254\n",
      "std       21.536020\n",
      "min       11.700000\n",
      "25%       23.550000\n",
      "50%       36.000000\n",
      "75%       55.100000\n",
      "max      100.000000\n",
      "Name: % High Needs, dtype: float64\n",
      "\n",
      "% Economically Disadvantaged\n",
      "count    351.000000\n",
      "mean      28.555556\n",
      "std       19.553996\n",
      "min        3.100000\n",
      "25%       12.700000\n",
      "50%       23.600000\n",
      "75%       40.650000\n",
      "max       83.300000\n",
      "Name: % Economically Disadvantaged, dtype: float64\n",
      "\n",
      "Average Class Size\n",
      "count    348.000000\n",
      "mean      15.880747\n",
      "std        3.157253\n",
      "min        4.900000\n",
      "25%       13.875000\n",
      "50%       15.800000\n",
      "75%       17.500000\n",
      "max       34.000000\n",
      "Name: Average Class Size, dtype: float64\n",
      "\n",
      "Average Salary\n",
      "count       309.000000\n",
      "mean      74319.621359\n",
      "std        8447.422859\n",
      "min       53763.000000\n",
      "25%       67658.000000\n",
      "50%       73535.000000\n",
      "75%       78845.000000\n",
      "max      100731.000000\n",
      "Name: Average Salary, dtype: float64\n",
      "\n",
      "FTE Count\n",
      "count     309.000000\n",
      "mean      699.935275\n",
      "std      1197.312733\n",
      "min        33.000000\n",
      "25%       127.000000\n",
      "50%       227.000000\n",
      "75%       452.000000\n",
      "max      4323.000000\n",
      "Name: FTE Count, dtype: float64\n",
      "\n",
      "In-District Expenditures\n",
      "count    3.090000e+02\n",
      "mean     1.556759e+08\n",
      "std      3.011143e+08\n",
      "min      5.920003e+06\n",
      "25%      2.315916e+07\n",
      "50%      4.039135e+07\n",
      "75%      8.495110e+07\n",
      "max      1.093104e+09\n",
      "Name: In-District Expenditures, dtype: float64\n",
      "\n",
      "Average In-District Expenditures per Pupil\n",
      "count      309.000000\n",
      "mean     15081.363398\n",
      "std       3186.411290\n",
      "min       9451.510000\n",
      "25%      12867.660000\n",
      "50%      13909.410000\n",
      "75%      17156.030000\n",
      "max      28226.880000\n",
      "Name: Average In-District Expenditures per Pupil, dtype: float64\n",
      "\n",
      "% Graduated\n",
      "count    340.000000\n",
      "mean      87.537941\n",
      "std       15.735519\n",
      "min        8.700000\n",
      "25%       86.550000\n",
      "50%       92.900000\n",
      "75%       96.225000\n",
      "max      100.000000\n",
      "Name: % Graduated, dtype: float64\n",
      "\n",
      "% Attending College\n",
      "count    332.000000\n",
      "mean      75.567470\n",
      "std       14.574367\n",
      "min       10.500000\n",
      "25%       69.525000\n",
      "50%       78.550000\n",
      "75%       86.900000\n",
      "max       95.200000\n",
      "Name: % Attending College, dtype: float64\n",
      "\n",
      "Average SAT_Reading\n",
      "count    327.000000\n",
      "mean     496.654434\n",
      "std       61.574982\n",
      "min      313.000000\n",
      "25%      468.000000\n",
      "50%      506.000000\n",
      "75%      532.500000\n",
      "max      629.000000\n",
      "Name: Average SAT_Reading, dtype: float64\n",
      "\n",
      "Average SAT_Writing\n",
      "count    327.000000\n",
      "mean     482.648318\n",
      "std       62.074973\n",
      "min      305.000000\n",
      "25%      447.000000\n",
      "50%      490.000000\n",
      "75%      520.500000\n",
      "max      614.000000\n",
      "Name: Average SAT_Writing, dtype: float64\n",
      "\n",
      "Average SAT_Math\n",
      "count    327.000000\n",
      "mean     506.831804\n",
      "std       59.240897\n",
      "min      336.000000\n",
      "25%      473.000000\n",
      "50%      514.000000\n",
      "75%      540.000000\n",
      "max      658.000000\n",
      "Name: Average SAT_Math, dtype: float64\n",
      "\n",
      "Accountability and Assistance Level\n",
      "count         350\n",
      "unique          5\n",
      "top       Level 2\n",
      "freq          152\n",
      "Name: Accountability and Assistance Level, dtype: object\n",
      "\n",
      "School Accountability Percentile (1-99)\n",
      "count    333.000000\n",
      "mean      51.618619\n",
      "std       28.189792\n",
      "min        1.000000\n",
      "25%       28.000000\n",
      "50%       53.000000\n",
      "75%       76.000000\n",
      "max       99.000000\n",
      "Name: School Accountability Percentile (1-99), dtype: float64\n",
      "\n",
      "Progress and Performance Index (PPI) - All Students\n",
      "count    335.000000\n",
      "mean      75.080597\n",
      "std       13.975473\n",
      "min       37.000000\n",
      "25%       64.000000\n",
      "50%       75.000000\n",
      "75%       85.000000\n",
      "max      100.000000\n",
      "Name: Progress and Performance Index (PPI) - All Students, dtype: float64\n",
      "\n",
      "Progress and Performance Index (PPI) - High Needs Students\n",
      "count    310.000000\n",
      "mean      70.800000\n",
      "std       13.391491\n",
      "min       41.000000\n",
      "25%       61.000000\n",
      "50%       70.000000\n",
      "75%       79.000000\n",
      "max      100.000000\n",
      "Name: Progress and Performance Index (PPI) - High Needs Students, dtype: float64\n",
      "\n",
      "Total Pupil FTEs\n",
      "count      309.000000\n",
      "mean     10378.195469\n",
      "std      18313.728361\n",
      "min        425.400000\n",
      "25%       1684.700000\n",
      "50%       3006.200000\n",
      "75%       6692.300000\n",
      "max      65964.600000\n",
      "Name: Total Pupil FTEs, dtype: float64\n",
      "\n"
     ]
    }
   ],
   "source": [
    "#For loop to describe each of the features selected\n",
    "for f in feature_frame.columns:\n",
    "    print(f)\n",
    "    print(feature_frame[f].describe())\n",
    "    print()"
   ]
  },
  {
   "cell_type": "code",
   "execution_count": 31,
   "metadata": {},
   "outputs": [],
   "source": [
    "#Note non-relevant fields and remove them from the feature dataset\n",
    "non_relevant_fields = ['Town', 'FTE Count', 'TOTAL_Enrollment', 'In-District Expenditures', '% Graduated', '% Attending College', 'Accountability and Assistance Level', 'School Accountability Percentile (1-99)']\n",
    "feature_frame_cut1 = feature_frame.drop(non_relevant_fields, axis = 1).copy()"
   ]
  },
  {
   "cell_type": "code",
   "execution_count": 32,
   "metadata": {},
   "outputs": [
    {
     "name": "stdout",
     "output_type": "stream",
     "text": [
      "District Name\n",
      "count        351\n",
      "unique       294\n",
      "top       Boston\n",
      "freq          27\n",
      "Name: District Name, dtype: object\n",
      "\n",
      "School Type\n",
      "count               351\n",
      "unique                2\n",
      "top       Public School\n",
      "freq                311\n",
      "Name: School Type, dtype: object\n",
      "\n",
      "% First Language Not English\n",
      "count    351.000000\n",
      "mean      16.954986\n",
      "std       20.624492\n",
      "min        0.000000\n",
      "25%        2.450000\n",
      "50%        7.000000\n",
      "75%       24.500000\n",
      "max      100.000000\n",
      "Name: % First Language Not English, dtype: float64\n",
      "\n",
      "% English Language Learner\n",
      "count    351.000000\n",
      "mean       6.336752\n",
      "std       10.768063\n",
      "min        0.000000\n",
      "25%        0.500000\n",
      "50%        1.500000\n",
      "75%        7.150000\n",
      "max       79.600000\n",
      "Name: % English Language Learner, dtype: float64\n",
      "\n",
      "% Students With Disabilities\n",
      "count    351.000000\n",
      "mean      17.333903\n",
      "std       10.065325\n",
      "min        0.000000\n",
      "25%       12.350000\n",
      "50%       15.500000\n",
      "75%       19.300000\n",
      "max      100.000000\n",
      "Name: % Students With Disabilities, dtype: float64\n",
      "\n",
      "% High Needs\n",
      "count    351.000000\n",
      "mean      41.761254\n",
      "std       21.536020\n",
      "min       11.700000\n",
      "25%       23.550000\n",
      "50%       36.000000\n",
      "75%       55.100000\n",
      "max      100.000000\n",
      "Name: % High Needs, dtype: float64\n",
      "\n",
      "% Economically Disadvantaged\n",
      "count    351.000000\n",
      "mean      28.555556\n",
      "std       19.553996\n",
      "min        3.100000\n",
      "25%       12.700000\n",
      "50%       23.600000\n",
      "75%       40.650000\n",
      "max       83.300000\n",
      "Name: % Economically Disadvantaged, dtype: float64\n",
      "\n",
      "Average Class Size\n",
      "count    348.000000\n",
      "mean      15.880747\n",
      "std        3.157253\n",
      "min        4.900000\n",
      "25%       13.875000\n",
      "50%       15.800000\n",
      "75%       17.500000\n",
      "max       34.000000\n",
      "Name: Average Class Size, dtype: float64\n",
      "\n",
      "Average Salary\n",
      "count       309.000000\n",
      "mean      74319.621359\n",
      "std        8447.422859\n",
      "min       53763.000000\n",
      "25%       67658.000000\n",
      "50%       73535.000000\n",
      "75%       78845.000000\n",
      "max      100731.000000\n",
      "Name: Average Salary, dtype: float64\n",
      "\n",
      "Average In-District Expenditures per Pupil\n",
      "count      309.000000\n",
      "mean     15081.363398\n",
      "std       3186.411290\n",
      "min       9451.510000\n",
      "25%      12867.660000\n",
      "50%      13909.410000\n",
      "75%      17156.030000\n",
      "max      28226.880000\n",
      "Name: Average In-District Expenditures per Pupil, dtype: float64\n",
      "\n",
      "Average SAT_Reading\n",
      "count    327.000000\n",
      "mean     496.654434\n",
      "std       61.574982\n",
      "min      313.000000\n",
      "25%      468.000000\n",
      "50%      506.000000\n",
      "75%      532.500000\n",
      "max      629.000000\n",
      "Name: Average SAT_Reading, dtype: float64\n",
      "\n",
      "Average SAT_Writing\n",
      "count    327.000000\n",
      "mean     482.648318\n",
      "std       62.074973\n",
      "min      305.000000\n",
      "25%      447.000000\n",
      "50%      490.000000\n",
      "75%      520.500000\n",
      "max      614.000000\n",
      "Name: Average SAT_Writing, dtype: float64\n",
      "\n",
      "Average SAT_Math\n",
      "count    327.000000\n",
      "mean     506.831804\n",
      "std       59.240897\n",
      "min      336.000000\n",
      "25%      473.000000\n",
      "50%      514.000000\n",
      "75%      540.000000\n",
      "max      658.000000\n",
      "Name: Average SAT_Math, dtype: float64\n",
      "\n",
      "Progress and Performance Index (PPI) - All Students\n",
      "count    335.000000\n",
      "mean      75.080597\n",
      "std       13.975473\n",
      "min       37.000000\n",
      "25%       64.000000\n",
      "50%       75.000000\n",
      "75%       85.000000\n",
      "max      100.000000\n",
      "Name: Progress and Performance Index (PPI) - All Students, dtype: float64\n",
      "\n",
      "Progress and Performance Index (PPI) - High Needs Students\n",
      "count    310.000000\n",
      "mean      70.800000\n",
      "std       13.391491\n",
      "min       41.000000\n",
      "25%       61.000000\n",
      "50%       70.000000\n",
      "75%       79.000000\n",
      "max      100.000000\n",
      "Name: Progress and Performance Index (PPI) - High Needs Students, dtype: float64\n",
      "\n",
      "Total Pupil FTEs\n",
      "count      309.000000\n",
      "mean     10378.195469\n",
      "std      18313.728361\n",
      "min        425.400000\n",
      "25%       1684.700000\n",
      "50%       3006.200000\n",
      "75%       6692.300000\n",
      "max      65964.600000\n",
      "Name: Total Pupil FTEs, dtype: float64\n",
      "\n"
     ]
    }
   ],
   "source": [
    "#For loop to describe each of the features selected\n",
    "for f in feature_frame_cut1.columns:\n",
    "    print(f)\n",
    "    print(feature_frame[f].describe())\n",
    "    print()"
   ]
  },
  {
   "cell_type": "markdown",
   "metadata": {},
   "source": [
    "There are 5 fields that describe demographic information about the student population where exactly 6 data points are missing. These row items are extracted to determine if it's the same institutions that are missing this data, and if so, there are any commonalities that's causing this info to be missing."
   ]
  },
  {
   "cell_type": "code",
   "execution_count": 33,
   "metadata": {},
   "outputs": [
    {
     "name": "stdout",
     "output_type": "stream",
     "text": [
      "6\n"
     ]
    }
   ],
   "source": [
    "#For loop to extract the names of the schools with missing data in the 5 demographic feature columns \n",
    "missing_demo_info = ['% First Language Not English',  '% English Language Learner', '% Students With Disabilities', '% High Needs', '% Economically Disadvantaged']\n",
    "\n",
    "#for loop to create a column in the original dataframe noting where schools are missing demographic info\n",
    "missing_demo_data = schools_teaching_10th.copy()\n",
    "schools_missing_demo = {}\n",
    "\n",
    "for f in missing_demo_info:\n",
    "    school_list = []\n",
    "    missing_demo_data['missing_{}'.format(f)] = missing_demo_data[f].isnull()\n",
    "    school_list = missing_demo_data[missing_demo_data['missing_{}'.format(f)]]['School Name'].to_list()\n",
    "    schools_missing_demo['missing_{}'.format(f)] = school_list\n",
    "\n",
    "missing_data_list = []\n",
    "\n",
    "for s in schools_missing_demo:\n",
    "    \n",
    "    for i in schools_missing_demo[s]:\n",
    "        if i not in missing_data_list:\n",
    "            missing_data_list.append(i)\n",
    "\n",
    "print(len(missing_data_list))"
   ]
  },
  {
   "cell_type": "markdown",
   "metadata": {},
   "source": [
    "Since the same 6 schools are missing demographic information, I decided to remove these schools from the dataset using the dropna function."
   ]
  },
  {
   "cell_type": "code",
   "execution_count": 34,
   "metadata": {},
   "outputs": [
    {
     "name": "stdout",
     "output_type": "stream",
     "text": [
      "<class 'pandas.core.frame.DataFrame'>\n",
      "Index: 351 entries, 0 to 1858\n",
      "Data columns (total 16 columns):\n",
      " #   Column                                                      Non-Null Count  Dtype  \n",
      "---  ------                                                      --------------  -----  \n",
      " 0   District Name                                               351 non-null    object \n",
      " 1   School Type                                                 351 non-null    object \n",
      " 2   % First Language Not English                                351 non-null    float64\n",
      " 3   % English Language Learner                                  351 non-null    float64\n",
      " 4   % Students With Disabilities                                351 non-null    float64\n",
      " 5   % High Needs                                                351 non-null    float64\n",
      " 6   % Economically Disadvantaged                                351 non-null    float64\n",
      " 7   Average Class Size                                          348 non-null    float64\n",
      " 8   Average Salary                                              309 non-null    float64\n",
      " 9   Average In-District Expenditures per Pupil                  309 non-null    float64\n",
      " 10  Average SAT_Reading                                         327 non-null    float64\n",
      " 11  Average SAT_Writing                                         327 non-null    float64\n",
      " 12  Average SAT_Math                                            327 non-null    float64\n",
      " 13  Progress and Performance Index (PPI) - All Students         335 non-null    float64\n",
      " 14  Progress and Performance Index (PPI) - High Needs Students  310 non-null    float64\n",
      " 15  Total Pupil FTEs                                            309 non-null    float64\n",
      "dtypes: float64(14), object(2)\n",
      "memory usage: 46.6+ KB\n",
      "None\n"
     ]
    }
   ],
   "source": [
    "#drop schools missing demographic information\n",
    "feature_frame_cut1.dropna(axis = 0, subset = ['% First Language Not English'], inplace = True)\n",
    "print(feature_frame_cut1.info())"
   ]
  },
  {
   "cell_type": "markdown",
   "metadata": {},
   "source": [
    "Next, we need to address the missing values for average class size, average salary, and average in-district expenditures per pupil. To impute these values, I'd like to use information about other schools within the district to impute these values, but I need to make sure that there is sufficient data for this approach first."
   ]
  },
  {
   "cell_type": "code",
   "execution_count": 35,
   "metadata": {},
   "outputs": [
    {
     "name": "stdout",
     "output_type": "stream",
     "text": [
      "Average Class Size Missing Means\n",
      "1\n",
      "\n",
      "Average Salary Missing Medians\n",
      "42\n",
      "\n",
      "Average In-District Expenditures per Pupil Missing Means\n",
      "42\n",
      "\n",
      "Average Class Size Missing Medians\n",
      "1\n",
      "\n",
      "Average Salary Missing Medians\n",
      "42\n",
      "\n",
      "Average In-District Expenditures per Pupil Missing Medians\n",
      "42\n"
     ]
    }
   ],
   "source": [
    "#check the mean and median values for average class size, average salary, and average in district expenditures per pupil by district\n",
    "avg_class_info = feature_frame_cut1[['District Name', 'Average Class Size', 'Average Salary', 'Average In-District Expenditures per Pupil']].groupby('District Name').agg('mean')\n",
    "med_class_info = feature_frame_cut1[['District Name', 'Average Class Size', 'Average Salary', 'Average In-District Expenditures per Pupil']].groupby('District Name').agg('median')\n",
    "\n",
    "print('Average Class Size Missing Means')\n",
    "print(avg_class_info['Average Class Size'].isna().sum())\n",
    "print()\n",
    "print('Average Salary Missing Medians')\n",
    "print(avg_class_info['Average Salary'].isna().sum())\n",
    "print()\n",
    "print('Average In-District Expenditures per Pupil Missing Means')\n",
    "print(avg_class_info['Average In-District Expenditures per Pupil'].isna().sum())\n",
    "print()\n",
    "print('Average Class Size Missing Medians')\n",
    "print(med_class_info['Average Class Size'].isna().sum())\n",
    "print()\n",
    "print('Average Salary Missing Medians')\n",
    "print(med_class_info['Average Salary'].isna().sum())\n",
    "print()\n",
    "print('Average In-District Expenditures per Pupil Missing Medians')\n",
    "print(med_class_info['Average In-District Expenditures per Pupil'].isna().sum())"
   ]
  },
  {
   "cell_type": "code",
   "execution_count": 36,
   "metadata": {},
   "outputs": [
    {
     "name": "stdout",
     "output_type": "stream",
     "text": [
      "The following is a list of districts where one or more schools are missing average class size data, but aggregate district data is available. Aggregate district data will be used to impute these values.\n",
      "['Leominster']\n",
      "\n",
      "The following is a list of districts where one or more schools are missing average class size data, and aggregate district data is  NOT available. Aggregate State data will be used to impute these values.\n",
      "['Medford']\n"
     ]
    }
   ],
   "source": [
    "#Make a list of districts missing class size info and compare it to list of districts missing aggregate class size info\n",
    "districts_missing_class_size = np.unique(feature_frame_cut1[feature_frame_cut1['Average Class Size'].isna()]['District Name'].to_numpy())\n",
    "districts_missing_agg_class_size = np.unique(avg_class_info[avg_class_info['Average Class Size'].isna()].index.to_numpy())\n",
    "\n",
    "#print the districts that won't be able to be filled with aggregate data\n",
    "districts_filled_with_agg_class_size = []\n",
    "for dis in districts_missing_class_size:\n",
    "    if dis not in districts_missing_agg_class_size:\n",
    "        districts_filled_with_agg_class_size.append(dis)\n",
    "\n",
    "print('The following is a list of districts where one or more schools are missing average class size data, but aggregate district data is available. Aggregate district data will be used to impute these values.')\n",
    "print(districts_filled_with_agg_class_size)\n",
    "print()\n",
    "print('The following is a list of districts where one or more schools are missing average class size data, and aggregate district data is  NOT available. Aggregate State data will be used to impute these values.')\n",
    "print(districts_missing_agg_class_size)"
   ]
  },
  {
   "cell_type": "markdown",
   "metadata": {},
   "source": [
    "Schools missing average class size may be filled with either average or median figures from their district or state (depending on what info is available). To determine which imputation method will be used, I broke the data points out into histograms, if the data was distributed normally, I used the mean, if the data was skewed I used the median"
   ]
  },
  {
   "cell_type": "code",
   "execution_count": 37,
   "metadata": {},
   "outputs": [
    {
     "name": "stdout",
     "output_type": "stream",
     "text": [
      "Average Class Size\n"
     ]
    },
    {
     "data": {
      "image/png": "[encoded data removed]",
      "text/plain": [
       "<Figure size 640x480 with 1 Axes>"
      ]
     },
     "metadata": {},
     "output_type": "display_data"
    },
    {
     "name": "stdout",
     "output_type": "stream",
     "text": [
      "Average Salary\n"
     ]
    },
    {
     "data": {
      "image/png": "[encoded data removed]",
      "text/plain": [
       "<Figure size 640x480 with 1 Axes>"
      ]
     },
     "metadata": {},
     "output_type": "display_data"
    },
    {
     "name": "stdout",
     "output_type": "stream",
     "text": [
      "Average In-District Expenditures per Pupil\n"
     ]
    },
    {
     "data": {
      "image/png": "[encoded data removed]",
      "text/plain": [
       "<Figure size 640x480 with 1 Axes>"
      ]
     },
     "metadata": {},
     "output_type": "display_data"
    },
    {
     "name": "stdout",
     "output_type": "stream",
     "text": [
      "Average SAT_Reading\n"
     ]
    },
    {
     "data": {
      "image/png": "[encoded data removed]",
      "text/plain": [
       "<Figure size 640x480 with 1 Axes>"
      ]
     },
     "metadata": {},
     "output_type": "display_data"
    },
    {
     "name": "stdout",
     "output_type": "stream",
     "text": [
      "Average SAT_Writing\n"
     ]
    },
    {
     "data": {
      "image/png": "[encoded data removed]",
      "text/plain": [
       "<Figure size 640x480 with 1 Axes>"
      ]
     },
     "metadata": {},
     "output_type": "display_data"
    },
    {
     "name": "stdout",
     "output_type": "stream",
     "text": [
      "Average SAT_Math\n"
     ]
    },
    {
     "data": {
      "image/png": "[encoded data removed]",
      "text/plain": [
       "<Figure size 640x480 with 1 Axes>"
      ]
     },
     "metadata": {},
     "output_type": "display_data"
    },
    {
     "name": "stdout",
     "output_type": "stream",
     "text": [
      "Progress and Performance Index (PPI) - All Students\n"
     ]
    },
    {
     "data": {
      "image/png": "[encoded data removed]",
      "text/plain": [
       "<Figure size 640x480 with 1 Axes>"
      ]
     },
     "metadata": {},
     "output_type": "display_data"
    },
    {
     "name": "stdout",
     "output_type": "stream",
     "text": [
      "Progress and Performance Index (PPI) - High Needs Students\n"
     ]
    },
    {
     "data": {
      "image/png": "[encoded data removed]",
      "text/plain": [
       "<Figure size 640x480 with 1 Axes>"
      ]
     },
     "metadata": {},
     "output_type": "display_data"
    },
    {
     "name": "stdout",
     "output_type": "stream",
     "text": [
      "Total Pupil FTEs\n"
     ]
    },
    {
     "data": {
      "image/png": "[encoded data removed]",
      "text/plain": [
       "<Figure size 640x480 with 1 Axes>"
      ]
     },
     "metadata": {},
     "output_type": "display_data"
    }
   ],
   "source": [
    "#histogram to represent how data is distributed for missing info\n",
    "hist_fields = ['Average Class Size', 'Average Salary', 'Average In-District Expenditures per Pupil', 'Average SAT_Reading', 'Average SAT_Writing', 'Average SAT_Math', 'Progress and Performance Index (PPI) - All Students', 'Progress and Performance Index (PPI) - High Needs Students', 'Total Pupil FTEs']\n",
    "for f in hist_fields:\n",
    "    feature_frame_cut1[f].hist()\n",
    "    print(f)\n",
    "    plt.show()"
   ]
  },
  {
   "cell_type": "markdown",
   "metadata": {},
   "source": [
    "Based on the results, average salary and class size are normally distributed but in district expenditures per pupil is skewed. I then wrote a function that can be used to fill missing values with either mean or median. The function takes the series to modify, the method of filling missing values as inputs, and whether the imputations are calculated at district or state level. After filling the missing values with the requested method, the function returns the updated series."
   ]
  },
  {
   "cell_type": "code",
   "execution_count": 38,
   "metadata": {},
   "outputs": [],
   "source": [
    "#Write functions for replacing missing values with mean \n",
    "\n",
    "#Mean fill function\n",
    "def fillWithMean(frame, col_name):\n",
    "\n",
    "    #copy the dataframe\n",
    "    func_frame = frame.copy()\n",
    "\n",
    "    #get the list of unique districts \n",
    "    dist_avgs = {}\n",
    "    districts = func_frame['District Name'].unique()\n",
    "\n",
    "    #run through each district and calculate the mean value of the requested column and add to dict, for districts without an average, use the state average value\n",
    "    state_avg = func_frame[col_name].mean()\n",
    "    for d in districts:\n",
    "        d_avg = func_frame[func_frame['District Name'] == d][col_name].mean()\n",
    "        if np.isnan(d_avg):\n",
    "            dist_avgs[d] = state_avg\n",
    "        else:\n",
    "            dist_avgs[d] = d_avg\n",
    "        \n",
    "    #fill the missing values with district averages in the requested column\n",
    "    func_frame[col_name] = func_frame[col_name].astype(str).replace('nan', np.nan)\n",
    "    func_frame[col_name].fillna(func_frame['District Name'], inplace = True)\n",
    "    func_frame[col_name] = func_frame[col_name].apply(lambda x: dist_avgs[x] if x in dist_avgs.keys() else x)\n",
    "\n",
    "    #Convert target series into float type\n",
    "    func_frame[col_name] = func_frame[col_name].astype('float')    \n",
    "\n",
    "    #Return updated series\n",
    "    return func_frame[col_name]"
   ]
  },
  {
   "cell_type": "code",
   "execution_count": 39,
   "metadata": {},
   "outputs": [],
   "source": [
    "#Write functions for replacing missing values with median\n",
    "\n",
    "#Mean fill function\n",
    "def fillWithMedian(frame, col_name):\n",
    "\n",
    "    #copy the dataframe\n",
    "    func_frame = frame.copy()\n",
    "\n",
    "    #get the list of unique districts \n",
    "    dist_meds = {}\n",
    "    districts = func_frame['District Name'].unique()\n",
    "\n",
    "    #run through each district and calculate the mean value of the requested column and add to dict, for districts without an average, use the state average value\n",
    "    state_med = func_frame[col_name].median()\n",
    "    for d in districts:\n",
    "        d_med = func_frame[func_frame['District Name'] == d][col_name].median()\n",
    "        if np.isnan(d_med):\n",
    "            dist_meds[d] = state_med\n",
    "        else:\n",
    "            dist_meds[d] = d_med\n",
    "        \n",
    "    #fill the missing values with district averages in the requested column\n",
    "    func_frame[col_name] = func_frame[col_name].astype(str).replace('nan', np.nan)\n",
    "    func_frame[col_name].fillna(func_frame['District Name'], inplace = True)\n",
    "    func_frame[col_name] = func_frame[col_name].apply(lambda x: dist_meds[x] if x in dist_meds.keys() else x)\n",
    "\n",
    "    #Convert target series into float type\n",
    "    func_frame[col_name] = func_frame[col_name].astype('float')    \n",
    "\n",
    "    #Return updated series\n",
    "    return func_frame[col_name]"
   ]
  },
  {
   "cell_type": "code",
   "execution_count": 40,
   "metadata": {},
   "outputs": [
    {
     "name": "stdout",
     "output_type": "stream",
     "text": [
      "<class 'pandas.core.frame.DataFrame'>\n",
      "Index: 351 entries, 0 to 1858\n",
      "Data columns (total 16 columns):\n",
      " #   Column                                                      Non-Null Count  Dtype  \n",
      "---  ------                                                      --------------  -----  \n",
      " 0   District Name                                               351 non-null    object \n",
      " 1   School Type                                                 351 non-null    object \n",
      " 2   % First Language Not English                                351 non-null    float64\n",
      " 3   % English Language Learner                                  351 non-null    float64\n",
      " 4   % Students With Disabilities                                351 non-null    float64\n",
      " 5   % High Needs                                                351 non-null    float64\n",
      " 6   % Economically Disadvantaged                                351 non-null    float64\n",
      " 7   Average Class Size                                          351 non-null    float64\n",
      " 8   Average Salary                                              351 non-null    float64\n",
      " 9   Average In-District Expenditures per Pupil                  351 non-null    float64\n",
      " 10  Average SAT_Reading                                         327 non-null    float64\n",
      " 11  Average SAT_Writing                                         327 non-null    float64\n",
      " 12  Average SAT_Math                                            327 non-null    float64\n",
      " 13  Progress and Performance Index (PPI) - All Students         335 non-null    float64\n",
      " 14  Progress and Performance Index (PPI) - High Needs Students  310 non-null    float64\n",
      " 15  Total Pupil FTEs                                            309 non-null    float64\n",
      "dtypes: float64(14), object(2)\n",
      "memory usage: 46.6+ KB\n",
      "None\n"
     ]
    }
   ],
   "source": [
    "#Impute missing demographic data \n",
    "feature_frame_cut2 = feature_frame_cut1.copy()\n",
    "\n",
    "for i in ['Average Class Size', 'Average Salary']:\n",
    "    feature_frame_cut2[i] = fillWithMean(feature_frame_cut2, i)\n",
    "\n",
    "for i in ['Average In-District Expenditures per Pupil']:\n",
    "    feature_frame_cut2[i] = fillWithMedian(feature_frame_cut2, i)\n",
    "\n",
    "print(feature_frame_cut2.info())"
   ]
  },
  {
   "cell_type": "markdown",
   "metadata": {},
   "source": [
    "The next fields with missing information includes the average SAT scores for Reading, Writing, and Math. For each these columns, approximately 17% of values are missing, and normally this would be considered too much to impute. However, for this exercise, I decided to use the K Nearest Neighbors algorthim to practice using this method. The purpose of including this variable was to use it as a metric to evaluate a school's ability to prepare students for standardized tests. While prepatory courses aren't required to excel on the SATs, high SAT scores may indicate that a school encourages standardized test prep either through its curriculum or additional support such as after school classes. For this feature, I added the scores for each SAT subject to get a total SAT score and used the KNN algorithm from scikitlearn to impute missing values. SAT scores were aggregated prior to imputing missing scores to reduct the total number of imputations needed to prep this feature."
   ]
  },
  {
   "cell_type": "code",
   "execution_count": 41,
   "metadata": {},
   "outputs": [
    {
     "name": "stdout",
     "output_type": "stream",
     "text": [
      "<class 'pandas.core.frame.DataFrame'>\n",
      "Index: 351 entries, 0 to 1858\n",
      "Data columns (total 9 columns):\n",
      " #   Column                                      Non-Null Count  Dtype  \n",
      "---  ------                                      --------------  -----  \n",
      " 0   % First Language Not English                351 non-null    float64\n",
      " 1   % English Language Learner                  351 non-null    float64\n",
      " 2   % Students With Disabilities                351 non-null    float64\n",
      " 3   % High Needs                                351 non-null    float64\n",
      " 4   % Economically Disadvantaged                351 non-null    float64\n",
      " 5   Average Class Size                          351 non-null    float64\n",
      " 6   Average Salary                              351 non-null    float64\n",
      " 7   Average In-District Expenditures per Pupil  351 non-null    float64\n",
      " 8   SAT Score                                   327 non-null    float64\n",
      "dtypes: float64(9)\n",
      "memory usage: 27.4 KB\n",
      "None\n",
      "0      1534.0\n",
      "1      1485.0\n",
      "2      1583.0\n",
      "3      1709.0\n",
      "4      1749.0\n",
      "        ...  \n",
      "346    1552.0\n",
      "347    1233.0\n",
      "348    1174.0\n",
      "349    1395.6\n",
      "350    1477.0\n",
      "Name: 8, Length: 351, dtype: float64\n",
      "0      1534.0\n",
      "1      1485.0\n",
      "2      1583.0\n",
      "3      1709.0\n",
      "4      1749.0\n",
      "        ...  \n",
      "346    1552.0\n",
      "347    1233.0\n",
      "348    1174.0\n",
      "349    1395.6\n",
      "350    1477.0\n",
      "Name: 8, Length: 351, dtype: float64\n",
      "<class 'pandas.core.frame.DataFrame'>\n",
      "RangeIndex: 351 entries, 0 to 350\n",
      "Data columns (total 11 columns):\n",
      " #   Column                                      Non-Null Count  Dtype  \n",
      "---  ------                                      --------------  -----  \n",
      " 0   index                                       351 non-null    int64  \n",
      " 1   % First Language Not English                351 non-null    float64\n",
      " 2   % English Language Learner                  351 non-null    float64\n",
      " 3   % Students With Disabilities                351 non-null    float64\n",
      " 4   % High Needs                                351 non-null    float64\n",
      " 5   % Economically Disadvantaged                351 non-null    float64\n",
      " 6   Average Class Size                          351 non-null    float64\n",
      " 7   Average Salary                              351 non-null    float64\n",
      " 8   Average In-District Expenditures per Pupil  351 non-null    float64\n",
      " 9   SAT Score                                   327 non-null    float64\n",
      " 10  imputed score                               351 non-null    float64\n",
      "dtypes: float64(10), int64(1)\n",
      "memory usage: 30.3 KB\n",
      "None\n"
     ]
    }
   ],
   "source": [
    "#Aggregate SAT scores\n",
    "sat_frame = feature_frame_cut2.copy()\n",
    "sat_tests = ['Average SAT_Reading', 'Average SAT_Writing', 'Average SAT_Math']\n",
    "sat_frame['SAT Score'] = sat_frame['Average SAT_Reading'] + sat_frame['Average SAT_Writing'] + sat_frame['Average SAT_Math']\n",
    "sat_impute_frame = sat_frame[['% First Language Not English', '% English Language Learner', '% Students With Disabilities' ,'% High Needs' ,'% Economically Disadvantaged', 'Average Class Size', 'Average Salary', 'Average In-District Expenditures per Pupil',\n",
    "                              'SAT Score']]\n",
    "\n",
    "\n",
    "print(sat_impute_frame.info())\n",
    "\n",
    "#Train and apply KNN imputer\n",
    "imputer = KNNImputer()\n",
    "imputer.fit(sat_impute_frame)\n",
    "imputed_sat_array = pd.DataFrame(imputer.transform(sat_impute_frame))\n",
    "imputed_series = pd.Series(imputed_sat_array[8])\n",
    "updated_frame = sat_impute_frame.copy()\n",
    "updated_frame.reset_index(inplace = True)\n",
    "updated_frame['imputed score'] = imputed_series\n",
    "print(imputed_sat_array[8])\n",
    "print(imputed_series)\n",
    "\n",
    "print(updated_frame.info())\n"
   ]
  },
  {
   "cell_type": "code",
   "execution_count": 42,
   "metadata": {},
   "outputs": [
    {
     "name": "stdout",
     "output_type": "stream",
     "text": [
      "<class 'pandas.core.frame.DataFrame'>\n",
      "RangeIndex: 351 entries, 0 to 350\n",
      "Data columns (total 11 columns):\n",
      " #   Column                                      Non-Null Count  Dtype  \n",
      "---  ------                                      --------------  -----  \n",
      " 0   index                                       351 non-null    int64  \n",
      " 1   % First Language Not English                351 non-null    float64\n",
      " 2   % English Language Learner                  351 non-null    float64\n",
      " 3   % Students With Disabilities                351 non-null    float64\n",
      " 4   % High Needs                                351 non-null    float64\n",
      " 5   % Economically Disadvantaged                351 non-null    float64\n",
      " 6   Average Class Size                          351 non-null    float64\n",
      " 7   Average Salary                              351 non-null    float64\n",
      " 8   Average In-District Expenditures per Pupil  351 non-null    float64\n",
      " 9   SAT Score                                   327 non-null    float64\n",
      " 10  imputed score                               351 non-null    float64\n",
      "dtypes: float64(10), int64(1)\n",
      "memory usage: 30.3 KB\n",
      "None\n"
     ]
    }
   ],
   "source": [
    "# Next I tried normalizing the fields to improve the performance of the KNN algorithm\n",
    "scaler = MinMaxScaler()\n",
    "feat_cols = sat_impute_frame[['% First Language Not English', '% English Language Learner', '% Students With Disabilities' ,'% High Needs' ,'% Economically Disadvantaged', 'Average Class Size', 'Average Salary', 'Average In-District Expenditures per Pupil']]\n",
    "norm_cols = scaler.fit_transform(feat_cols)\n",
    "norm_frame = pd.DataFrame(norm_cols, columns = ['% First Language Not English', '% English Language Learner', '% Students With Disabilities' ,'% High Needs' ,'% Economically Disadvantaged', 'Average Class Size', 'Average Salary', 'Average In-District Expenditures per Pupil'])\n",
    "\n",
    "#Add the sat column to the normalized dataframe\n",
    "sat_reset_frame = sat_impute_frame.reset_index()\n",
    "norm_frame['SAT Score'] = sat_reset_frame['SAT Score']\n",
    "\n",
    "#Train and apply KNN imputer\n",
    "norm_imputer = KNNImputer()\n",
    "norm_imputer.fit(norm_frame)\n",
    "norm_imputed_sat_array = pd.DataFrame(imputer.transform(norm_frame))\n",
    "norm_imputed_series = pd.Series(norm_imputed_sat_array[8])\n",
    "norm_updated_frame = norm_frame.copy()\n",
    "norm_updated_frame.reset_index(inplace = True)\n",
    "norm_updated_frame['imputed score'] = norm_imputed_series\n",
    "\n",
    "print(norm_updated_frame.info())\n",
    "\n",
    "norm_imputed_frame = norm_updated_frame.drop(['SAT Score', 'index'], axis = 1)"
   ]
  },
  {
   "cell_type": "code",
   "execution_count": 43,
   "metadata": {},
   "outputs": [
    {
     "name": "stdout",
     "output_type": "stream",
     "text": [
      "<class 'pandas.core.frame.DataFrame'>\n",
      "RangeIndex: 351 entries, 0 to 350\n",
      "Data columns (total 9 columns):\n",
      " #   Column                                      Non-Null Count  Dtype  \n",
      "---  ------                                      --------------  -----  \n",
      " 0   % First Language Not English                351 non-null    float64\n",
      " 1   % English Language Learner                  351 non-null    float64\n",
      " 2   % Students With Disabilities                351 non-null    float64\n",
      " 3   % High Needs                                351 non-null    float64\n",
      " 4   % Economically Disadvantaged                351 non-null    float64\n",
      " 5   Average Class Size                          351 non-null    float64\n",
      " 6   Average Salary                              351 non-null    float64\n",
      " 7   Average In-District Expenditures per Pupil  351 non-null    float64\n",
      " 8   imputed score                               351 non-null    float64\n",
      "dtypes: float64(9)\n",
      "memory usage: 24.8 KB\n",
      "None\n"
     ]
    }
   ],
   "source": [
    "#With the imputed SAT scores, the only step left is to normalized the imputed score column\n",
    "cols = norm_imputed_frame.columns\n",
    "feature_frame = pd.DataFrame(scaler.fit_transform(norm_imputed_frame), columns = cols)\n",
    "print(feature_frame.info())"
   ]
  }
 ],
 "metadata": {
  "kernelspec": {
   "display_name": "base",
   "language": "python",
   "name": "python3"
  },
  "language_info": {
   "codemirror_mode": {
    "name": "ipython",
    "version": 3
   },
   "file_extension": ".py",
   "mimetype": "text/x-python",
   "name": "python",
   "nbconvert_exporter": "python",
   "pygments_lexer": "ipython3",
   "version": "3.11.7"
  }
 },
 "nbformat": 4,
 "nbformat_minor": 2
}
